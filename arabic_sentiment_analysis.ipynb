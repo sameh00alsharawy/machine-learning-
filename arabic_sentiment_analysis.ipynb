{
  "nbformat": 4,
  "nbformat_minor": 0,
  "metadata": {
    "colab": {
      "name": "arabic sentiment analysis.ipynb",
      "provenance": [],
      "collapsed_sections": [],
      "authorship_tag": "ABX9TyOLWOj9Uhu9m0PSewFlocsy",
      "include_colab_link": true
    },
    "kernelspec": {
      "name": "python3",
      "display_name": "Python 3"
    },
    "accelerator": "GPU"
  },
  "cells": [
    {
      "cell_type": "markdown",
      "metadata": {
        "id": "view-in-github",
        "colab_type": "text"
      },
      "source": [
        "<a href=\"https://colab.research.google.com/github/sameh00alsharawy/machine-learning-/blob/master/arabic_sentiment_analysis.ipynb\" target=\"_parent\"><img src=\"https://colab.research.google.com/assets/colab-badge.svg\" alt=\"Open In Colab\"/></a>"
      ]
    },
    {
      "cell_type": "code",
      "metadata": {
        "id": "9EkIEeQsuN7l",
        "colab_type": "code",
        "colab": {
          "base_uri": "https://localhost:8080/",
          "height": 289
        },
        "outputId": "d781a6ce-503d-494a-ddb1-dfa5ef5ec4be"
      },
      "source": [
        "from google.colab import drive \n",
        "!gdown --id '1EbAUsvp7_d46k_AJo97c_Kkq2W92Szq6'\n",
        "!gdown --id '1s675Wt46d0-TqoHPqgM46-kVa4E8_m-Y'\n",
        "!gdown --id '1NKngN4pBT7nV9y6ALW6vI-w972r918-H'\n",
        "!gdown --id '1MnyTd18BaP-KVNc2T_q6lmmek5KGVdVo'"
      ],
      "execution_count": null,
      "outputs": [
        {
          "output_type": "stream",
          "text": [
            "Downloading...\n",
            "From: https://drive.google.com/uc?id=1EbAUsvp7_d46k_AJo97c_Kkq2W92Szq6\n",
            "To: /content/2class-balanced-test.txt\n",
            "100% 22.5k/22.5k [00:00<00:00, 21.4MB/s]\n",
            "Downloading...\n",
            "From: https://drive.google.com/uc?id=1s675Wt46d0-TqoHPqgM46-kVa4E8_m-Y\n",
            "To: /content/2class-balanced-train.txt\n",
            "100% 89.9k/89.9k [00:00<00:00, 32.9MB/s]\n",
            "Downloading...\n",
            "From: https://drive.google.com/uc?id=1NKngN4pBT7nV9y6ALW6vI-w972r918-H\n",
            "To: /content/NEGATIVE.txt\n",
            "100% 253/253 [00:00<00:00, 226kB/s]\n",
            "Downloading...\n",
            "From: https://drive.google.com/uc?id=1MnyTd18BaP-KVNc2T_q6lmmek5KGVdVo\n",
            "To: /content/reviews.tsv\n",
            "39.9MB [00:00, 85.9MB/s]\n"
          ],
          "name": "stdout"
        }
      ]
    },
    {
      "cell_type": "code",
      "metadata": {
        "id": "zCdemy0glltb",
        "colab_type": "code",
        "colab": {
          "base_uri": "https://localhost:8080/",
          "height": 187
        },
        "outputId": "8b08e22c-4dda-456d-d99f-2372dcdd7825"
      },
      "source": [
        "!pip install pyarabic"
      ],
      "execution_count": null,
      "outputs": [
        {
          "output_type": "stream",
          "text": [
            "Collecting pyarabic\n",
            "\u001b[?25l  Downloading https://files.pythonhosted.org/packages/2c/d4/8b5b7288dd313680d6fdea9c9ded2946f12ed2c81be4b44940bbd478da8c/PyArabic-0.6.8.tar.gz (105kB)\n",
            "\r\u001b[K     |███                             | 10kB 28.7MB/s eta 0:00:01\r\u001b[K     |██████▏                         | 20kB 2.9MB/s eta 0:00:01\r\u001b[K     |█████████▎                      | 30kB 3.9MB/s eta 0:00:01\r\u001b[K     |████████████▍                   | 40kB 4.2MB/s eta 0:00:01\r\u001b[K     |███████████████▌                | 51kB 3.5MB/s eta 0:00:01\r\u001b[K     |██████████████████▋             | 61kB 3.9MB/s eta 0:00:01\r\u001b[K     |█████████████████████▋          | 71kB 4.2MB/s eta 0:00:01\r\u001b[K     |████████████████████████▊       | 81kB 4.6MB/s eta 0:00:01\r\u001b[K     |███████████████████████████▉    | 92kB 4.8MB/s eta 0:00:01\r\u001b[K     |███████████████████████████████ | 102kB 4.7MB/s eta 0:00:01\r\u001b[K     |████████████████████████████████| 112kB 4.7MB/s \n",
            "\u001b[?25hBuilding wheels for collected packages: pyarabic\n",
            "  Building wheel for pyarabic (setup.py) ... \u001b[?25l\u001b[?25hdone\n",
            "  Created wheel for pyarabic: filename=PyArabic-0.6.8-cp36-none-any.whl size=110609 sha256=61fd324f866085f0d536b88c6294342ec46520feb87180543ebd885b2aafb38e\n",
            "  Stored in directory: /root/.cache/pip/wheels/ca/fa/26/d82414a6635b3ee82bee0729bfdb1dc8d09879742206e004bb\n",
            "Successfully built pyarabic\n",
            "Installing collected packages: pyarabic\n",
            "Successfully installed pyarabic-0.6.8\n"
          ],
          "name": "stdout"
        }
      ]
    },
    {
      "cell_type": "code",
      "metadata": {
        "id": "5FOsWfNoaNxH",
        "colab_type": "code",
        "colab": {}
      },
      "source": [
        "import pandas as pd\n",
        "import numpy as np\n",
        "import re\n",
        "import pyarabic.araby as araby\n",
        "import os\n",
        "from sklearn.metrics import accuracy_score\n",
        "import tensorflow as tf\n",
        "from tensorflow import keras "
      ],
      "execution_count": null,
      "outputs": []
    },
    {
      "cell_type": "code",
      "metadata": {
        "id": "OKrsxLJTakPd",
        "colab_type": "code",
        "colab": {}
      },
      "source": [
        "reviews= pd.read_csv('reviews.tsv', sep='\\t', names=['rating', 'review_id', 'user_id', 'book_id', 'review'])"
      ],
      "execution_count": null,
      "outputs": []
    },
    {
      "cell_type": "code",
      "metadata": {
        "id": "_zIRZMFqbJvW",
        "colab_type": "code",
        "colab": {
          "base_uri": "https://localhost:8080/",
          "height": 204
        },
        "outputId": "fad4be0f-6307-49ca-e4d0-9fdf88e06401"
      },
      "source": [
        "reviews.head()"
      ],
      "execution_count": null,
      "outputs": [
        {
          "output_type": "execute_result",
          "data": {
            "text/html": [
              "<div>\n",
              "<style scoped>\n",
              "    .dataframe tbody tr th:only-of-type {\n",
              "        vertical-align: middle;\n",
              "    }\n",
              "\n",
              "    .dataframe tbody tr th {\n",
              "        vertical-align: top;\n",
              "    }\n",
              "\n",
              "    .dataframe thead th {\n",
              "        text-align: right;\n",
              "    }\n",
              "</style>\n",
              "<table border=\"1\" class=\"dataframe\">\n",
              "  <thead>\n",
              "    <tr style=\"text-align: right;\">\n",
              "      <th></th>\n",
              "      <th>rating</th>\n",
              "      <th>review_id</th>\n",
              "      <th>user_id</th>\n",
              "      <th>book_id</th>\n",
              "      <th>review</th>\n",
              "    </tr>\n",
              "  </thead>\n",
              "  <tbody>\n",
              "    <tr>\n",
              "      <th>0</th>\n",
              "      <td>4</td>\n",
              "      <td>338670838</td>\n",
              "      <td>7878381</td>\n",
              "      <td>13431841</td>\n",
              "      <td>\"عزازيل الذي صنعناه ،الكامن في أنفسنا\" يذكرني...</td>\n",
              "    </tr>\n",
              "    <tr>\n",
              "      <th>1</th>\n",
              "      <td>4</td>\n",
              "      <td>39428407</td>\n",
              "      <td>1775679</td>\n",
              "      <td>3554772</td>\n",
              "      <td>من أمتع ما قرأت من روايات بلا شك. وحول الشك ت...</td>\n",
              "    </tr>\n",
              "    <tr>\n",
              "      <th>2</th>\n",
              "      <td>4</td>\n",
              "      <td>32159373</td>\n",
              "      <td>1304410</td>\n",
              "      <td>3554772</td>\n",
              "      <td>رواية تتخذ من التاريخ ،جوًا لها اختار المؤلف ...</td>\n",
              "    </tr>\n",
              "    <tr>\n",
              "      <th>3</th>\n",
              "      <td>1</td>\n",
              "      <td>442326656</td>\n",
              "      <td>11333112</td>\n",
              "      <td>3554772</td>\n",
              "      <td>إني أقدّر هذه الرواية كثيرا، لسبب مختلف عن أس...</td>\n",
              "    </tr>\n",
              "    <tr>\n",
              "      <th>4</th>\n",
              "      <td>5</td>\n",
              "      <td>46492258</td>\n",
              "      <td>580165</td>\n",
              "      <td>3554772</td>\n",
              "      <td>الكاهن الذي أطلق على نفسه اسم هيبا تيمنا بالع...</td>\n",
              "    </tr>\n",
              "  </tbody>\n",
              "</table>\n",
              "</div>"
            ],
            "text/plain": [
              "   rating  ...                                             review\n",
              "0       4  ...   \"عزازيل الذي صنعناه ،الكامن في أنفسنا\" يذكرني...\n",
              "1       4  ...   من أمتع ما قرأت من روايات بلا شك. وحول الشك ت...\n",
              "2       4  ...   رواية تتخذ من التاريخ ،جوًا لها اختار المؤلف ...\n",
              "3       1  ...   إني أقدّر هذه الرواية كثيرا، لسبب مختلف عن أس...\n",
              "4       5  ...   الكاهن الذي أطلق على نفسه اسم هيبا تيمنا بالع...\n",
              "\n",
              "[5 rows x 5 columns]"
            ]
          },
          "metadata": {
            "tags": []
          },
          "execution_count": 5
        }
      ]
    },
    {
      "cell_type": "code",
      "metadata": {
        "id": "vtF-HmohdEVJ",
        "colab_type": "code",
        "colab": {}
      },
      "source": [
        "d=reviews[0:5].review.values"
      ],
      "execution_count": null,
      "outputs": []
    },
    {
      "cell_type": "code",
      "metadata": {
        "id": "Srwapk10-g6Z",
        "colab_type": "code",
        "colab": {
          "base_uri": "https://localhost:8080/",
          "height": 69
        },
        "outputId": "b7ccd2bd-43a2-4616-ead8-8b57e0f9dad4"
      },
      "source": [
        "d[0]"
      ],
      "execution_count": null,
      "outputs": [
        {
          "output_type": "execute_result",
          "data": {
            "application/vnd.google.colaboratory.intrinsic+json": {
              "type": "string"
            },
            "text/plain": [
              "' \"عزازيل الذي صنعناه ،الكامن في أنفسنا\" يذكرني يوسف زيدان بــ بورخس في استخدامه لحيلته الفنية،وخداع القاريء بأن الرواية ترجمة لمخطوط قديم. الهوامش المخترعة و اختلاق وجود مترجـِم عاد بي إلى بورخس و هوامشه و كتَّابه الوهميين. هذه أولى قراءاتي ليوسف زيدان ،وهو عبقري في السرد ويخلقُ جوَّا ساحرا متفرداً يغرقك في المتعة. هُنا يتجلى الشكُّ الراقي الممزوج بانسانية هيبا الفاتنة ربما تم تناول فكرة الرواية قبلاً ،ولكن هنا تفرداً و عذوبة لا تُقارن بنصٍ آخر كنتُ أودُّ لو صيغت النهاية بطريقة مختلفة فقد جاءت باردة لا تتناسب مع رواية خُطَّت بهذا الشغف . ولذا لا أستطيع منح الرواية خمس نجوم ،وإن كانت تجربة قرائية متفردة وممتعة. '"
            ]
          },
          "metadata": {
            "tags": []
          },
          "execution_count": 7
        }
      ]
    },
    {
      "cell_type": "code",
      "metadata": {
        "id": "mbEQegUFn8L5",
        "colab_type": "code",
        "colab": {}
      },
      "source": [
        "text=araby.strip_tashkeel(d[0])"
      ],
      "execution_count": null,
      "outputs": []
    },
    {
      "cell_type": "code",
      "metadata": {
        "id": "jCcG4sPKggQK",
        "colab_type": "code",
        "colab": {}
      },
      "source": [
        "text=re.sub('[^\\w]+|_]', ' ', text)"
      ],
      "execution_count": null,
      "outputs": []
    },
    {
      "cell_type": "code",
      "metadata": {
        "id": "i8mZIdLtgvcO",
        "colab_type": "code",
        "colab": {
          "base_uri": "https://localhost:8080/",
          "height": 69
        },
        "outputId": "bdc40a37-0ef5-44e6-b554-c61daf354766"
      },
      "source": [
        "text"
      ],
      "execution_count": null,
      "outputs": [
        {
          "output_type": "execute_result",
          "data": {
            "application/vnd.google.colaboratory.intrinsic+json": {
              "type": "string"
            },
            "text/plain": [
              "' عزازيل الذي صنعناه الكامن في أنفسنا يذكرني يوسف زيدان بــ بورخس في استخدامه لحيلته الفنية وخداع القاريء بأن الرواية ترجمة لمخطوط قديم الهوامش المخترعة و اختلاق وجود مترجـم عاد بي إلى بورخس و هوامشه و كتابه الوهميين هذه أولى قراءاتي ليوسف زيدان وهو عبقري في السرد ويخلق جوا ساحرا متفردا يغرقك في المتعة هنا يتجلى الشك الراقي الممزوج بانسانية هيبا الفاتنة ربما تم تناول فكرة الرواية قبلا ولكن هنا تفردا و عذوبة لا تقارن بنص آخر كنت أود لو صيغت النهاية بطريقة مختلفة فقد جاءت باردة لا تتناسب مع رواية خطت بهذا الشغف ولذا لا أستطيع منح الرواية خمس نجوم وإن كانت تجربة قرائية متفردة وممتعة '"
            ]
          },
          "metadata": {
            "tags": []
          },
          "execution_count": 10
        }
      ]
    },
    {
      "cell_type": "markdown",
      "metadata": {
        "id": "116MIj5GNwIY",
        "colab_type": "text"
      },
      "source": [
        "**extracting the train and test data from corpus**"
      ]
    },
    {
      "cell_type": "code",
      "metadata": {
        "id": "O3s8w8HPoI8Y",
        "colab_type": "code",
        "colab": {}
      },
      "source": [
        "file1=open('2class-balanced-train.txt', 'r')\n",
        "train_idx = [int(x) for x in file1.read().split('\\n')]\n",
        "file1.close()\n",
        "\n",
        "file2=open('2class-balanced-test.txt', 'r')\n",
        "test_idx=[int(x) for x in file2.read().split('\\n')]\n",
        "file2.close()"
      ],
      "execution_count": null,
      "outputs": []
    },
    {
      "cell_type": "code",
      "metadata": {
        "id": "RUwLyfk9wAOc",
        "colab_type": "code",
        "colab": {}
      },
      "source": [
        "train_reviews = reviews.iloc[train_idx, [0, -1]]\n",
        "test_reviews = reviews.iloc[test_idx, [0, -1]]\n",
        "train_reviews.rating = train_reviews.rating.apply(lambda x : 0 if x<3 else 1)\n",
        "test_reviews.rating = test_reviews.rating.apply(lambda x : 0 if x<3 else 1)\n",
        "reviews = pd.concat([train_reviews, test_reviews])"
      ],
      "execution_count": null,
      "outputs": []
    },
    {
      "cell_type": "code",
      "metadata": {
        "id": "uI9-Jnr71Hem",
        "colab_type": "code",
        "colab": {}
      },
      "source": [
        "x_train = train_reviews.review.values\n",
        "x_test  = test_reviews.review.values\n",
        "y_train = train_reviews.rating.values\n",
        "y_test  = test_reviews.rating.values"
      ],
      "execution_count": null,
      "outputs": []
    },
    {
      "cell_type": "markdown",
      "metadata": {
        "id": "RVjXHUiDOAg_",
        "colab_type": "text"
      },
      "source": [
        "**ازاله التشكيل وعلامات الترقيم**"
      ]
    },
    {
      "cell_type": "code",
      "metadata": {
        "id": "8s0Wgs4e1dZH",
        "colab_type": "code",
        "colab": {}
      },
      "source": [
        "x_train = [re.sub('[^\\w]+|_]', ' ', araby.strip_tashkeel(review)) for review in x_train]"
      ],
      "execution_count": null,
      "outputs": []
    },
    {
      "cell_type": "code",
      "metadata": {
        "id": "5BoMoash1dbJ",
        "colab_type": "code",
        "colab": {}
      },
      "source": [
        "x_test = [re.sub('[^\\w]+|_]', ' ', araby.strip_tashkeel(review)) for review in x_test]"
      ],
      "execution_count": null,
      "outputs": []
    },
    {
      "cell_type": "markdown",
      "metadata": {
        "id": "ZpmB8iIXNN13",
        "colab_type": "text"
      },
      "source": [
        "** Remove stop words but not the Negation words**\n",
        "\n"
      ]
    },
    {
      "cell_type": "code",
      "metadata": {
        "id": "GCZxnQL91dkI",
        "colab_type": "code",
        "colab": {}
      },
      "source": [
        "import nltk\n",
        "from nltk.corpus import stopwords"
      ],
      "execution_count": null,
      "outputs": []
    },
    {
      "cell_type": "code",
      "metadata": {
        "id": "tAJPnuEW1diV",
        "colab_type": "code",
        "colab": {
          "base_uri": "https://localhost:8080/",
          "height": 68
        },
        "outputId": "dcf7d8d5-fd02-4623-a749-9ae339088371"
      },
      "source": [
        "nltk.download('stopwords')"
      ],
      "execution_count": null,
      "outputs": [
        {
          "output_type": "stream",
          "text": [
            "[nltk_data] Downloading package stopwords to /root/nltk_data...\n",
            "[nltk_data]   Unzipping corpora/stopwords.zip.\n"
          ],
          "name": "stdout"
        },
        {
          "output_type": "execute_result",
          "data": {
            "text/plain": [
              "True"
            ]
          },
          "metadata": {
            "tags": []
          },
          "execution_count": 17
        }
      ]
    },
    {
      "cell_type": "code",
      "metadata": {
        "id": "-YTWvDUfE56m",
        "colab_type": "code",
        "colab": {
          "base_uri": "https://localhost:8080/",
          "height": 34
        },
        "outputId": "e19c57ac-21e0-4162-ae59-8bfb6073c828"
      },
      "source": [
        "stop_words = stopwords.words('arabic')\n",
        "\n",
        "file1=open('NEGATIVE.txt', 'r')\n",
        "neg = [x for x in file1.read().split('\\n')]\n",
        "file1.close()\n",
        "\n",
        "n = len(stop_words)\n",
        "\n",
        "for word in neg:\n",
        "  if word in stop_words:\n",
        "    stop_words.remove(word)\n",
        "\n",
        "print('{} stop words has been deleted'.format(n-len(stop_words)))"
      ],
      "execution_count": null,
      "outputs": [
        {
          "output_type": "stream",
          "text": [
            "16 stop words has been deleted\n"
          ],
          "name": "stdout"
        }
      ]
    },
    {
      "cell_type": "markdown",
      "metadata": {
        "id": "tZV3k6wRQviS",
        "colab_type": "text"
      },
      "source": [
        "**vectorizing the corpus and constructing a bag of words**"
      ]
    },
    {
      "cell_type": "code",
      "metadata": {
        "id": "f1Vko7fBDUeb",
        "colab_type": "code",
        "colab": {}
      },
      "source": [
        "from sklearn.feature_extraction.text import CountVectorizer\n",
        "\n",
        "cv = CountVectorizer(max_features=2000, stop_words=stop_words, ngram_range=(1, 2))\n",
        "x_train1 = cv.fit_transform(x_train).toarray()\n",
        "x_test1 = cv.transform(x_test).toarray()"
      ],
      "execution_count": null,
      "outputs": []
    },
    {
      "cell_type": "markdown",
      "metadata": {
        "id": "1lXZsMwqQ_oE",
        "colab_type": "text"
      },
      "source": [
        "**Logistic regression model**"
      ]
    },
    {
      "cell_type": "code",
      "metadata": {
        "id": "wwfwojteI3JO",
        "colab_type": "code",
        "colab": {
          "base_uri": "https://localhost:8080/",
          "height": 241
        },
        "outputId": "382cc5aa-9956-4ec0-c140-c5bccd0d65b1"
      },
      "source": [
        "from sklearn.linear_model import LogisticRegression\n",
        "\n",
        "model1 = LogisticRegression(max_iter=100)\n",
        "model1.fit(x_train1, y_train)\n",
        "y_pred1 = model1.predict(x_test1)\n",
        "accuracy = accuracy_score(y_test, y_pred1)\n",
        "print('Logistic regression model accuracy : {}'.format(accuracy))\n",
        "print('\\n\\n')"
      ],
      "execution_count": null,
      "outputs": [
        {
          "output_type": "stream",
          "text": [
            "Logistic regression model accuracy : 0.7715936739659367\n",
            "\n",
            "\n",
            "\n"
          ],
          "name": "stdout"
        },
        {
          "output_type": "stream",
          "text": [
            "/usr/local/lib/python3.6/dist-packages/sklearn/linear_model/_logistic.py:940: ConvergenceWarning: lbfgs failed to converge (status=1):\n",
            "STOP: TOTAL NO. of ITERATIONS REACHED LIMIT.\n",
            "\n",
            "Increase the number of iterations (max_iter) or scale the data as shown in:\n",
            "    https://scikit-learn.org/stable/modules/preprocessing.html\n",
            "Please also refer to the documentation for alternative solver options:\n",
            "    https://scikit-learn.org/stable/modules/linear_model.html#logistic-regression\n",
            "  extra_warning_msg=_LOGISTIC_SOLVER_CONVERGENCE_MSG)\n"
          ],
          "name": "stderr"
        }
      ]
    },
    {
      "cell_type": "markdown",
      "metadata": {
        "id": "4_vB1UmcRGzB",
        "colab_type": "text"
      },
      "source": [
        "**Naive bayes model**"
      ]
    },
    {
      "cell_type": "code",
      "metadata": {
        "id": "3YVL7WCaJ7WJ",
        "colab_type": "code",
        "colab": {
          "base_uri": "https://localhost:8080/",
          "height": 34
        },
        "outputId": "12cef3e5-f7dc-4a94-f548-cb46baf8e954"
      },
      "source": [
        "from sklearn.naive_bayes import GaussianNB\n",
        "\n",
        "model2 = GaussianNB()\n",
        "model2.fit(x_train1, y_train)\n",
        "y_pred2 = model2.predict(x_test1)\n",
        "print('Naive Bayes Model accuracy : {}'.format(accuracy_score(y_test, y_pred2)))"
      ],
      "execution_count": null,
      "outputs": [
        {
          "output_type": "stream",
          "text": [
            "Naive Bayes Model accuracy : 0.7305352798053528\n"
          ],
          "name": "stdout"
        }
      ]
    },
    {
      "cell_type": "markdown",
      "metadata": {
        "id": "qIMXaR4LROPE",
        "colab_type": "text"
      },
      "source": [
        "**TF-IDF Vectorization**"
      ]
    },
    {
      "cell_type": "code",
      "metadata": {
        "id": "xl1Bqew3SZO9",
        "colab_type": "code",
        "colab": {}
      },
      "source": [
        "from sklearn.feature_extraction.text import TfidfVectorizer\n",
        "\n",
        "tfidf = TfidfVectorizer(stop_words=stop_words, ngram_range=(1, 2), max_features=2000, )\n",
        "x_train2 = tfidf.fit_transform(x_train).toarray()\n",
        "x_test2  = tfidf.transform(x_test).toarray()"
      ],
      "execution_count": null,
      "outputs": []
    },
    {
      "cell_type": "code",
      "metadata": {
        "id": "IL00LoWgSfuG",
        "colab_type": "code",
        "colab": {
          "base_uri": "https://localhost:8080/",
          "height": 34
        },
        "outputId": "c6faa8a5-927b-43ec-cc5a-e4638220f57b"
      },
      "source": [
        "model3 = LogisticRegression(max_iter=200)\n",
        "model3.fit(x_train2, y_train)\n",
        "y_pred3 = model3.predict(x_test2)\n",
        "print('Logistic regression Model with TF-IDF representation accuracy : {}'.format(accuracy_score(y_test, y_pred3)))"
      ],
      "execution_count": null,
      "outputs": [
        {
          "output_type": "stream",
          "text": [
            "Logistic regression Model with TF-IDF representation accuracy : 0.7871046228710462\n"
          ],
          "name": "stdout"
        }
      ]
    }
  ]
}