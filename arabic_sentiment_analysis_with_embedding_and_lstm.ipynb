{
  "nbformat": 4,
  "nbformat_minor": 0,
  "metadata": {
    "colab": {
      "name": "arabic sentiment analysis with embedding and lstm.ipynb",
      "provenance": [],
      "collapsed_sections": [],
      "authorship_tag": "ABX9TyMVqT+XGTV2jh0a0Xe6WN8N",
      "include_colab_link": true
    },
    "kernelspec": {
      "name": "python3",
      "display_name": "Python 3"
    },
    "accelerator": "GPU"
  },
  "cells": [
    {
      "cell_type": "markdown",
      "metadata": {
        "id": "view-in-github",
        "colab_type": "text"
      },
      "source": [
        "<a href=\"https://colab.research.google.com/github/sameh00alsharawy/machine-learning-/blob/master/arabic_sentiment_analysis_with_embedding_and_lstm.ipynb\" target=\"_parent\"><img src=\"https://colab.research.google.com/assets/colab-badge.svg\" alt=\"Open In Colab\"/></a>"
      ]
    },
    {
      "cell_type": "code",
      "metadata": {
        "id": "iwdOoveZAqLS",
        "colab_type": "code",
        "colab": {
          "base_uri": "https://localhost:8080/",
          "height": 289
        },
        "outputId": "69e0366c-37c3-436f-a0d5-d194c5d2053c"
      },
      "source": [
        "from google.colab import drive \n",
        "!gdown --id '1EbAUsvp7_d46k_AJo97c_Kkq2W92Szq6'\n",
        "!gdown --id '1s675Wt46d0-TqoHPqgM46-kVa4E8_m-Y'\n",
        "!gdown --id '1NKngN4pBT7nV9y6ALW6vI-w972r918-H'\n",
        "!gdown --id '1MnyTd18BaP-KVNc2T_q6lmmek5KGVdVo'"
      ],
      "execution_count": null,
      "outputs": [
        {
          "output_type": "stream",
          "text": [
            "Downloading...\n",
            "From: https://drive.google.com/uc?id=1EbAUsvp7_d46k_AJo97c_Kkq2W92Szq6\n",
            "To: /content/2class-balanced-test.txt\n",
            "100% 22.5k/22.5k [00:00<00:00, 41.8MB/s]\n",
            "Downloading...\n",
            "From: https://drive.google.com/uc?id=1s675Wt46d0-TqoHPqgM46-kVa4E8_m-Y\n",
            "To: /content/2class-balanced-train.txt\n",
            "100% 89.9k/89.9k [00:00<00:00, 32.6MB/s]\n",
            "Downloading...\n",
            "From: https://drive.google.com/uc?id=1NKngN4pBT7nV9y6ALW6vI-w972r918-H\n",
            "To: /content/NEGATIVE.txt\n",
            "100% 253/253 [00:00<00:00, 340kB/s]\n",
            "Downloading...\n",
            "From: https://drive.google.com/uc?id=1MnyTd18BaP-KVNc2T_q6lmmek5KGVdVo\n",
            "To: /content/reviews.tsv\n",
            "39.9MB [00:00, 96.2MB/s]\n"
          ],
          "name": "stdout"
        }
      ]
    },
    {
      "cell_type": "code",
      "metadata": {
        "id": "OuCg8aH9Ar5O",
        "colab_type": "code",
        "colab": {
          "base_uri": "https://localhost:8080/",
          "height": 187
        },
        "outputId": "259fe55b-0a51-4865-ca94-c00b598ef99e"
      },
      "source": [
        "!pip install pyarabic"
      ],
      "execution_count": null,
      "outputs": [
        {
          "output_type": "stream",
          "text": [
            "Collecting pyarabic\n",
            "\u001b[?25l  Downloading https://files.pythonhosted.org/packages/2c/d4/8b5b7288dd313680d6fdea9c9ded2946f12ed2c81be4b44940bbd478da8c/PyArabic-0.6.8.tar.gz (105kB)\n",
            "\r\u001b[K     |███                             | 10kB 24.1MB/s eta 0:00:01\r\u001b[K     |██████▏                         | 20kB 2.8MB/s eta 0:00:01\r\u001b[K     |█████████▎                      | 30kB 3.8MB/s eta 0:00:01\r\u001b[K     |████████████▍                   | 40kB 4.2MB/s eta 0:00:01\r\u001b[K     |███████████████▌                | 51kB 3.3MB/s eta 0:00:01\r\u001b[K     |██████████████████▋             | 61kB 3.8MB/s eta 0:00:01\r\u001b[K     |█████████████████████▋          | 71kB 4.1MB/s eta 0:00:01\r\u001b[K     |████████████████████████▊       | 81kB 4.5MB/s eta 0:00:01\r\u001b[K     |███████████████████████████▉    | 92kB 4.8MB/s eta 0:00:01\r\u001b[K     |███████████████████████████████ | 102kB 4.5MB/s eta 0:00:01\r\u001b[K     |████████████████████████████████| 112kB 4.5MB/s \n",
            "\u001b[?25hBuilding wheels for collected packages: pyarabic\n",
            "  Building wheel for pyarabic (setup.py) ... \u001b[?25l\u001b[?25hdone\n",
            "  Created wheel for pyarabic: filename=PyArabic-0.6.8-cp36-none-any.whl size=110609 sha256=34d4a6930d99bcd5e72f00e9cacc3a6a80d9f6e4b0877eb0ca47141beb129e1a\n",
            "  Stored in directory: /root/.cache/pip/wheels/ca/fa/26/d82414a6635b3ee82bee0729bfdb1dc8d09879742206e004bb\n",
            "Successfully built pyarabic\n",
            "Installing collected packages: pyarabic\n",
            "Successfully installed pyarabic-0.6.8\n"
          ],
          "name": "stdout"
        }
      ]
    },
    {
      "cell_type": "code",
      "metadata": {
        "id": "2KZqTrrqAwgI",
        "colab_type": "code",
        "colab": {
          "base_uri": "https://localhost:8080/",
          "height": 343
        },
        "outputId": "a6072243-2c38-4cce-9840-faa5ed0bcf0a"
      },
      "source": [
        "!pip install gensim nltk"
      ],
      "execution_count": null,
      "outputs": [
        {
          "output_type": "stream",
          "text": [
            "Requirement already satisfied: gensim in /usr/local/lib/python3.6/dist-packages (3.6.0)\n",
            "Requirement already satisfied: nltk in /usr/local/lib/python3.6/dist-packages (3.2.5)\n",
            "Requirement already satisfied: six>=1.5.0 in /usr/local/lib/python3.6/dist-packages (from gensim) (1.15.0)\n",
            "Requirement already satisfied: scipy>=0.18.1 in /usr/local/lib/python3.6/dist-packages (from gensim) (1.4.1)\n",
            "Requirement already satisfied: numpy>=1.11.3 in /usr/local/lib/python3.6/dist-packages (from gensim) (1.18.5)\n",
            "Requirement already satisfied: smart-open>=1.2.1 in /usr/local/lib/python3.6/dist-packages (from gensim) (2.1.0)\n",
            "Requirement already satisfied: boto in /usr/local/lib/python3.6/dist-packages (from smart-open>=1.2.1->gensim) (2.49.0)\n",
            "Requirement already satisfied: requests in /usr/local/lib/python3.6/dist-packages (from smart-open>=1.2.1->gensim) (2.23.0)\n",
            "Requirement already satisfied: boto3 in /usr/local/lib/python3.6/dist-packages (from smart-open>=1.2.1->gensim) (1.14.37)\n",
            "Requirement already satisfied: idna<3,>=2.5 in /usr/local/lib/python3.6/dist-packages (from requests->smart-open>=1.2.1->gensim) (2.10)\n",
            "Requirement already satisfied: urllib3!=1.25.0,!=1.25.1,<1.26,>=1.21.1 in /usr/local/lib/python3.6/dist-packages (from requests->smart-open>=1.2.1->gensim) (1.24.3)\n",
            "Requirement already satisfied: chardet<4,>=3.0.2 in /usr/local/lib/python3.6/dist-packages (from requests->smart-open>=1.2.1->gensim) (3.0.4)\n",
            "Requirement already satisfied: certifi>=2017.4.17 in /usr/local/lib/python3.6/dist-packages (from requests->smart-open>=1.2.1->gensim) (2020.6.20)\n",
            "Requirement already satisfied: botocore<1.18.0,>=1.17.37 in /usr/local/lib/python3.6/dist-packages (from boto3->smart-open>=1.2.1->gensim) (1.17.37)\n",
            "Requirement already satisfied: jmespath<1.0.0,>=0.7.1 in /usr/local/lib/python3.6/dist-packages (from boto3->smart-open>=1.2.1->gensim) (0.10.0)\n",
            "Requirement already satisfied: s3transfer<0.4.0,>=0.3.0 in /usr/local/lib/python3.6/dist-packages (from boto3->smart-open>=1.2.1->gensim) (0.3.3)\n",
            "Requirement already satisfied: python-dateutil<3.0.0,>=2.1 in /usr/local/lib/python3.6/dist-packages (from botocore<1.18.0,>=1.17.37->boto3->smart-open>=1.2.1->gensim) (2.8.1)\n",
            "Requirement already satisfied: docutils<0.16,>=0.10 in /usr/local/lib/python3.6/dist-packages (from botocore<1.18.0,>=1.17.37->boto3->smart-open>=1.2.1->gensim) (0.15.2)\n"
          ],
          "name": "stdout"
        }
      ]
    },
    {
      "cell_type": "code",
      "metadata": {
        "id": "JZtS_YW0A6lX",
        "colab_type": "code",
        "colab": {
          "base_uri": "https://localhost:8080/",
          "height": 204
        },
        "outputId": "b18b87fe-6936-4dac-a7a8-c21343fcc98d"
      },
      "source": [
        "!wget https://bakrianoo.s3-us-west-2.amazonaws.com/aravec/full_uni_cbow_100_twitter.zip"
      ],
      "execution_count": null,
      "outputs": [
        {
          "output_type": "stream",
          "text": [
            "--2020-08-20 22:00:15--  https://bakrianoo.s3-us-west-2.amazonaws.com/aravec/full_uni_cbow_100_twitter.zip\n",
            "Resolving bakrianoo.s3-us-west-2.amazonaws.com (bakrianoo.s3-us-west-2.amazonaws.com)... 52.218.245.9\n",
            "Connecting to bakrianoo.s3-us-west-2.amazonaws.com (bakrianoo.s3-us-west-2.amazonaws.com)|52.218.245.9|:443... connected.\n",
            "HTTP request sent, awaiting response... 200 OK\n",
            "Length: 962251835 (918M) [application/zip]\n",
            "Saving to: ‘full_uni_cbow_100_twitter.zip’\n",
            "\n",
            "full_uni_cbow_100_t 100%[===================>] 917.67M  27.1MB/s    in 36s     \n",
            "\n",
            "2020-08-20 22:00:52 (25.4 MB/s) - ‘full_uni_cbow_100_twitter.zip’ saved [962251835/962251835]\n",
            "\n"
          ],
          "name": "stdout"
        }
      ]
    },
    {
      "cell_type": "code",
      "metadata": {
        "id": "lMs4hSXAA8xb",
        "colab_type": "code",
        "colab": {
          "base_uri": "https://localhost:8080/",
          "height": 85
        },
        "outputId": "9e64a7ff-376e-4358-89fe-2871ea13a350"
      },
      "source": [
        "!unzip full_uni_cbow_100_twitter.zip"
      ],
      "execution_count": null,
      "outputs": [
        {
          "output_type": "stream",
          "text": [
            "Archive:  full_uni_cbow_100_twitter.zip\n",
            "  inflating: full_uni_cbow_100_twitter.mdl  \n",
            "  inflating: full_uni_cbow_100_twitter.mdl.trainables.syn1neg.npy  \n",
            "  inflating: full_uni_cbow_100_twitter.mdl.wv.vectors.npy  \n"
          ],
          "name": "stdout"
        }
      ]
    },
    {
      "cell_type": "code",
      "metadata": {
        "id": "zl_2uqvqA-41",
        "colab_type": "code",
        "colab": {
          "base_uri": "https://localhost:8080/",
          "height": 71
        },
        "outputId": "e9beaa57-fd61-4ea7-b4c9-69f2a4887772"
      },
      "source": [
        "import gensim\n",
        "\n",
        "encoder = gensim.models.Word2Vec.load('full_uni_cbow_100_twitter.mdl')"
      ],
      "execution_count": null,
      "outputs": [
        {
          "output_type": "stream",
          "text": [
            "/usr/local/lib/python3.6/dist-packages/smart_open/smart_open_lib.py:254: UserWarning: This function is deprecated, use smart_open.open instead. See the migration notes for details: https://github.com/RaRe-Technologies/smart_open/blob/master/README.rst#migrating-to-the-new-open-function\n",
            "  'See the migration notes for details: %s' % _MIGRATION_NOTES_URL\n"
          ],
          "name": "stderr"
        }
      ]
    },
    {
      "cell_type": "code",
      "metadata": {
        "id": "EZq6ir6YBDnj",
        "colab_type": "code",
        "colab": {}
      },
      "source": [
        "import pandas as pd\n",
        "import numpy as np\n",
        "import matplotlib.pyplot as plt\n",
        "\n",
        "import re\n",
        "import pyarabic.araby as araby\n",
        "import os\n",
        "from sklearn.metrics import accuracy_score\n",
        "\n",
        "import nltk\n",
        "from nltk.corpus import stopwords\n",
        "\n",
        "from keras.models import Sequential, Model\n",
        "from keras.layers import LSTM, Dense, Embedding, Dropout, Flatten, BatchNormalization, Input\n",
        "from keras.optimizers import Adam\n",
        "from sklearn.model_selection import train_test_split\n",
        "\n"
      ],
      "execution_count": null,
      "outputs": []
    },
    {
      "cell_type": "code",
      "metadata": {
        "id": "VMp9gZdSkPQO",
        "colab_type": "code",
        "colab": {
          "base_uri": "https://localhost:8080/",
          "height": 241
        },
        "outputId": "c7ba3b1a-de23-4d8c-b070-fcd32427f2f1"
      },
      "source": [
        "most_similar = encoder.wv.most_similar('مصر')\n",
        "for i, j in most_similar:\n",
        "  print(i , j)"
      ],
      "execution_count": null,
      "outputs": [
        {
          "output_type": "stream",
          "text": [
            "تونس 0.8415080904960632\n",
            "ليبيا 0.8191641569137573\n",
            "تركيا 0.7924618124961853\n",
            "بورسعيد 0.7904039621353149\n",
            "الجزائر 0.7894656658172607\n",
            "السودان 0.7706625461578369\n",
            "القاهره 0.7667017579078674\n",
            "سيناء 0.7660335898399353\n",
            "ومصر 0.7509731650352478\n",
            "السويس 0.7475086450576782\n"
          ],
          "name": "stdout"
        },
        {
          "output_type": "stream",
          "text": [
            "/usr/local/lib/python3.6/dist-packages/gensim/matutils.py:737: FutureWarning: Conversion of the second argument of issubdtype from `int` to `np.signedinteger` is deprecated. In future, it will be treated as `np.int64 == np.dtype(int).type`.\n",
            "  if np.issubdtype(vec.dtype, np.int):\n"
          ],
          "name": "stderr"
        }
      ]
    },
    {
      "cell_type": "code",
      "metadata": {
        "id": "OxWhHjmmGleo",
        "colab_type": "code",
        "colab": {}
      },
      "source": [
        "from nltk.stem.isri import ISRIStemmer"
      ],
      "execution_count": null,
      "outputs": []
    },
    {
      "cell_type": "code",
      "metadata": {
        "id": "siheffmRBKno",
        "colab_type": "code",
        "colab": {
          "base_uri": "https://localhost:8080/",
          "height": 68
        },
        "outputId": "880f035e-37bf-4983-bf6c-80cedabf3972"
      },
      "source": [
        "nltk.download('stopwords')"
      ],
      "execution_count": null,
      "outputs": [
        {
          "output_type": "stream",
          "text": [
            "[nltk_data] Downloading package stopwords to /root/nltk_data...\n",
            "[nltk_data]   Unzipping corpora/stopwords.zip.\n"
          ],
          "name": "stdout"
        },
        {
          "output_type": "execute_result",
          "data": {
            "text/plain": [
              "True"
            ]
          },
          "metadata": {
            "tags": []
          },
          "execution_count": 10
        }
      ]
    },
    {
      "cell_type": "code",
      "metadata": {
        "id": "WhtxTBASBdx7",
        "colab_type": "code",
        "colab": {}
      },
      "source": [
        "file1=open('2class-balanced-train.txt', 'r')\n",
        "train_idx = [int(x) for x in file1.read().split('\\n')]\n",
        "file1.close()\n",
        "\n",
        "file2=open('2class-balanced-test.txt', 'r')\n",
        "test_idx=[int(x) for x in file2.read().split('\\n')]\n",
        "file2.close()"
      ],
      "execution_count": null,
      "outputs": []
    },
    {
      "cell_type": "code",
      "metadata": {
        "id": "8WGj-b5BBi1z",
        "colab_type": "code",
        "colab": {}
      },
      "source": [
        "reviews= pd.read_csv('reviews.tsv', sep='\\t', names=['rating', 'review_id', 'user_id', 'book_id', 'review'])"
      ],
      "execution_count": null,
      "outputs": []
    },
    {
      "cell_type": "code",
      "metadata": {
        "id": "u7IrbSiwBju5",
        "colab_type": "code",
        "colab": {}
      },
      "source": [
        "train_reviews = reviews.iloc[train_idx, [0, -1]]\n",
        "test_reviews = reviews.iloc[test_idx, [0, -1]]\n",
        "train_reviews.rating = train_reviews.rating.apply(lambda x : 0 if x<3 else 1)\n",
        "test_reviews.rating = test_reviews.rating.apply(lambda x : 0 if x<3 else 1)\n",
        "reviews = pd.concat([train_reviews, test_reviews])"
      ],
      "execution_count": null,
      "outputs": []
    },
    {
      "cell_type": "code",
      "metadata": {
        "id": "MysfOFQbBjxD",
        "colab_type": "code",
        "colab": {
          "base_uri": "https://localhost:8080/",
          "height": 34
        },
        "outputId": "470e18be-ad37-4c34-8ebb-1f86bcc1a703"
      },
      "source": [
        "stop_words = stopwords.words('arabic')\n",
        "\n",
        "file1=open('NEGATIVE.txt', 'r')\n",
        "neg = [x for x in file1.read().split('\\n')]\n",
        "file1.close()\n",
        "\n",
        "n = len(stop_words)\n",
        "\n",
        "for word in neg:\n",
        "  if word in stop_words:\n",
        "    stop_words.remove(word)\n",
        "\n",
        "print('{} stop words has been deleted'.format(n-len(stop_words)))"
      ],
      "execution_count": null,
      "outputs": [
        {
          "output_type": "stream",
          "text": [
            "16 stop words has been deleted\n"
          ],
          "name": "stdout"
        }
      ]
    },
    {
      "cell_type": "code",
      "metadata": {
        "id": "yc8lo0jYBj0h",
        "colab_type": "code",
        "colab": {}
      },
      "source": [
        "x=reviews.review.values\n",
        "y=reviews.rating.values"
      ],
      "execution_count": null,
      "outputs": []
    },
    {
      "cell_type": "code",
      "metadata": {
        "id": "jA5w4ZG0QGsh",
        "colab_type": "code",
        "colab": {}
      },
      "source": [
        "st = ISRIStemmer()"
      ],
      "execution_count": null,
      "outputs": []
    },
    {
      "cell_type": "code",
      "metadata": {
        "id": "SwfDpIYuBj3g",
        "colab_type": "code",
        "colab": {}
      },
      "source": [
        "x = [st.suf32(re.sub('[^\\w]+|_]', ' ', araby.strip_tashkeel(review))) for review in x]"
      ],
      "execution_count": null,
      "outputs": []
    },
    {
      "cell_type": "code",
      "metadata": {
        "id": "5MlgL5LOCJzd",
        "colab_type": "code",
        "colab": {
          "base_uri": "https://localhost:8080/",
          "height": 34
        },
        "outputId": "c22e5333-fc4c-4307-cee9-895c641a1b69"
      },
      "source": [
        "len(x)"
      ],
      "execution_count": null,
      "outputs": [
        {
          "output_type": "execute_result",
          "data": {
            "text/plain": [
              "16448"
            ]
          },
          "metadata": {
            "tags": []
          },
          "execution_count": 18
        }
      ]
    },
    {
      "cell_type": "markdown",
      "metadata": {
        "id": "F8F6jXjcupcF",
        "colab_type": "text"
      },
      "source": [
        "**setting the maximum number of words in one sentence to be 100**"
      ]
    },
    {
      "cell_type": "code",
      "metadata": {
        "id": "zS_IkSLLCaPK",
        "colab_type": "code",
        "colab": {}
      },
      "source": [
        "max_length = 100\n",
        "X=[]\n",
        "Y=[]\n",
        "for i in range(len(x)):\n",
        "  if len(x[i].split())<=100:\n",
        "    X.append(x[i].split())\n",
        "    Y.append(y[i])\n",
        "  else:\n",
        "    X.append(x[i].split()[:100]) \n",
        "    Y.append(y[i])"
      ],
      "execution_count": null,
      "outputs": []
    },
    {
      "cell_type": "code",
      "metadata": {
        "id": "f5UlaVX2bxUD",
        "colab_type": "code",
        "colab": {
          "base_uri": "https://localhost:8080/",
          "height": 34
        },
        "outputId": "0409e5d7-0182-47a6-f2ba-466861ab2321"
      },
      "source": [
        "len(X), len(Y)"
      ],
      "execution_count": null,
      "outputs": [
        {
          "output_type": "execute_result",
          "data": {
            "text/plain": [
              "(16448, 16448)"
            ]
          },
          "metadata": {
            "tags": []
          },
          "execution_count": 20
        }
      ]
    },
    {
      "cell_type": "markdown",
      "metadata": {
        "id": "DpKqoHFXuyiX",
        "colab_type": "text"
      },
      "source": [
        "**creating a list with the name vocab containing all the unique words and a dictionary with the name vocab_dict mapping each word to index**"
      ]
    },
    {
      "cell_type": "code",
      "metadata": {
        "id": "000XueTqGkW2",
        "colab_type": "code",
        "colab": {}
      },
      "source": [
        "vocab=[]\n",
        "for sentence in X:\n",
        "  for word in sentence:\n",
        "    if word not in vocab :\n",
        "      vocab.append(word)"
      ],
      "execution_count": null,
      "outputs": []
    },
    {
      "cell_type": "code",
      "metadata": {
        "id": "4V5DhByMGkZZ",
        "colab_type": "code",
        "colab": {}
      },
      "source": [
        "len_vocab=len(vocab)"
      ],
      "execution_count": null,
      "outputs": []
    },
    {
      "cell_type": "code",
      "metadata": {
        "id": "-ckYp2WXGlXM",
        "colab_type": "code",
        "colab": {
          "base_uri": "https://localhost:8080/",
          "height": 34
        },
        "outputId": "c04ec82d-6c89-42f3-bda5-00ef195ce4f9"
      },
      "source": [
        "len_vocab"
      ],
      "execution_count": null,
      "outputs": [
        {
          "output_type": "execute_result",
          "data": {
            "text/plain": [
              "85787"
            ]
          },
          "metadata": {
            "tags": []
          },
          "execution_count": 23
        }
      ]
    },
    {
      "cell_type": "code",
      "metadata": {
        "id": "07OA150rGlZN",
        "colab_type": "code",
        "colab": {}
      },
      "source": [
        "vocab_dict = {}\n",
        "for i in range(len(vocab)):\n",
        "  vocab_dict[vocab[i]]=i"
      ],
      "execution_count": null,
      "outputs": []
    },
    {
      "cell_type": "markdown",
      "metadata": {
        "id": "zBZwQrNXvMr5",
        "colab_type": "text"
      },
      "source": [
        "**representing each sentence with a sequence of indices**"
      ]
    },
    {
      "cell_type": "code",
      "metadata": {
        "id": "9KIePsE8Glc2",
        "colab_type": "code",
        "colab": {}
      },
      "source": [
        "X_indices =np.zeros((len(X), 100))\n",
        "for i in range(len(X)):\n",
        "  sentence_words = X[i]\n",
        "  j=0\n",
        "  for w in sentence_words:\n",
        "    X_indices[i, j] = vocab_dict[w]\n",
        "    j=j+1\n"
      ],
      "execution_count": null,
      "outputs": []
    },
    {
      "cell_type": "code",
      "metadata": {
        "id": "Fovx4_E2CjzU",
        "colab_type": "code",
        "colab": {
          "base_uri": "https://localhost:8080/",
          "height": 34
        },
        "outputId": "d3f4d7d1-e284-4043-a28f-49741f378aef"
      },
      "source": [
        "X_indices.shape"
      ],
      "execution_count": null,
      "outputs": [
        {
          "output_type": "execute_result",
          "data": {
            "text/plain": [
              "(16448, 100)"
            ]
          },
          "metadata": {
            "tags": []
          },
          "execution_count": 36
        }
      ]
    },
    {
      "cell_type": "markdown",
      "metadata": {
        "id": "K3wTn-6avVTf",
        "colab_type": "text"
      },
      "source": [
        "**creating embedding matrix with shape (number of unique words+1, 100), some words don't have a representation, i reoresent it with zeros vector, and set the embedding layer to be trainable**"
      ]
    },
    {
      "cell_type": "code",
      "metadata": {
        "id": "rx5NCDMeC8St",
        "colab_type": "code",
        "colab": {}
      },
      "source": [
        "emb_matrix = np.zeros((len_vocab+1, 100))\n",
        "j=0\n",
        "for word, idx in vocab_dict.items():\n",
        "  try:\n",
        "    emb_matrix[idx, :] = encoder.wv.get_vector(word)\n",
        "  except:\n",
        "    j=j+1  \n"
      ],
      "execution_count": null,
      "outputs": []
    },
    {
      "cell_type": "code",
      "metadata": {
        "id": "uGAT4LmaadYv",
        "colab_type": "code",
        "colab": {}
      },
      "source": [
        "X_train, X_test, Y_train, Y_test = train_test_split(X_indices,np.array( Y) , test_size=0.25, shuffle=False)"
      ],
      "execution_count": null,
      "outputs": []
    },
    {
      "cell_type": "code",
      "metadata": {
        "id": "ucbyJuLHC-Cg",
        "colab_type": "code",
        "colab": {
          "base_uri": "https://localhost:8080/",
          "height": 391
        },
        "outputId": "6352932c-81d4-4184-e738-d3cb4965bb28"
      },
      "source": [
        "sentence_indices = Input(shape=(100,), dtype='int32')\n",
        "\n",
        "embedding_layer = Embedding(input_dim=len_vocab+1, output_dim=100, weights=[emb_matrix], trainable= True)\n",
        "embeddings = embedding_layer(sentence_indices)\n",
        "\n",
        "X = LSTM(128, return_sequences=True)(embeddings)\n",
        "# Add dropout with a probability of 0.5\n",
        "X = Dropout(0.8)(X)\n",
        "# Propagate X trough another LSTM layer with 128-dimensional hidden state\n",
        "# The returned output should be a single hidden state, not a batch of sequences.\n",
        "X = LSTM(128, return_sequences=False)(X)\n",
        "# Add dropout with a probability of 0.5\n",
        "X = Dropout(0.8)(X)\n",
        "# Propagate X through a Dense layer with 5 units\n",
        "X = Dense(1, activation='sigmoid')(X)\n",
        "\n",
        "model=Model(sentence_indices, X)\n",
        "\n",
        "model.summary()"
      ],
      "execution_count": null,
      "outputs": [
        {
          "output_type": "stream",
          "text": [
            "Model: \"functional_5\"\n",
            "_________________________________________________________________\n",
            "Layer (type)                 Output Shape              Param #   \n",
            "=================================================================\n",
            "input_3 (InputLayer)         [(None, 100)]             0         \n",
            "_________________________________________________________________\n",
            "embedding_2 (Embedding)      (None, 100, 100)          8578800   \n",
            "_________________________________________________________________\n",
            "lstm_4 (LSTM)                (None, 100, 128)          117248    \n",
            "_________________________________________________________________\n",
            "dropout_4 (Dropout)          (None, 100, 128)          0         \n",
            "_________________________________________________________________\n",
            "lstm_5 (LSTM)                (None, 128)               131584    \n",
            "_________________________________________________________________\n",
            "dropout_5 (Dropout)          (None, 128)               0         \n",
            "_________________________________________________________________\n",
            "dense_2 (Dense)              (None, 1)                 129       \n",
            "=================================================================\n",
            "Total params: 8,827,761\n",
            "Trainable params: 8,827,761\n",
            "Non-trainable params: 0\n",
            "_________________________________________________________________\n"
          ],
          "name": "stdout"
        }
      ]
    },
    {
      "cell_type": "code",
      "metadata": {
        "id": "aowVGbRjFrxk",
        "colab_type": "code",
        "colab": {}
      },
      "source": [
        "model.compile(loss='binary_crossentropy', optimizer='adam', metrics=['accuracy'])"
      ],
      "execution_count": null,
      "outputs": []
    },
    {
      "cell_type": "code",
      "metadata": {
        "id": "kGt7cNysGav7",
        "colab_type": "code",
        "colab": {
          "base_uri": "https://localhost:8080/",
          "height": 357
        },
        "outputId": "28ed5ea7-12ad-4e7b-dc24-6f3cfb5f2c57"
      },
      "source": [
        "hist=model.fit(\n",
        "    X_train,\n",
        "    Y_train,\n",
        "    epochs = 10,\n",
        "    batch_size = 32,\n",
        "    shuffle=True,\n",
        "    validation_split=0.2\n",
        "    )"
      ],
      "execution_count": null,
      "outputs": [
        {
          "output_type": "stream",
          "text": [
            "Epoch 1/10\n",
            "309/309 [==============================] - 30s 96ms/step - loss: 0.6580 - accuracy: 0.6500 - val_loss: 1.2298 - val_accuracy: 4.0519e-04\n",
            "Epoch 2/10\n",
            "309/309 [==============================] - 29s 94ms/step - loss: 0.5969 - accuracy: 0.6868 - val_loss: 0.7035 - val_accuracy: 0.8610\n",
            "Epoch 3/10\n",
            "309/309 [==============================] - 29s 93ms/step - loss: 0.4926 - accuracy: 0.7864 - val_loss: 0.6124 - val_accuracy: 0.7188\n",
            "Epoch 4/10\n",
            "309/309 [==============================] - 29s 93ms/step - loss: 0.3779 - accuracy: 0.8554 - val_loss: 0.6557 - val_accuracy: 0.7034\n",
            "Epoch 5/10\n",
            "309/309 [==============================] - 29s 93ms/step - loss: 0.2642 - accuracy: 0.9119 - val_loss: 1.1311 - val_accuracy: 0.6256\n",
            "Epoch 6/10\n",
            "309/309 [==============================] - 29s 92ms/step - loss: 0.1711 - accuracy: 0.9455 - val_loss: 1.1351 - val_accuracy: 0.6106\n",
            "Epoch 7/10\n",
            "309/309 [==============================] - 29s 93ms/step - loss: 0.1112 - accuracy: 0.9692 - val_loss: 1.5919 - val_accuracy: 0.6669\n",
            "Epoch 8/10\n",
            "309/309 [==============================] - 29s 93ms/step - loss: 0.0845 - accuracy: 0.9762 - val_loss: 0.8821 - val_accuracy: 0.7164\n",
            "Epoch 9/10\n",
            "309/309 [==============================] - 29s 92ms/step - loss: 0.0669 - accuracy: 0.9826 - val_loss: 1.3100 - val_accuracy: 0.6297\n",
            "Epoch 10/10\n",
            "309/309 [==============================] - 28s 92ms/step - loss: 0.0627 - accuracy: 0.9840 - val_loss: 1.5181 - val_accuracy: 0.6617\n"
          ],
          "name": "stdout"
        }
      ]
    },
    {
      "cell_type": "code",
      "metadata": {
        "id": "CIA3Aws5Xy8W",
        "colab_type": "code",
        "colab": {
          "base_uri": "https://localhost:8080/",
          "height": 295
        },
        "outputId": "7f5308ec-77f3-411e-c6b6-4f7daff79b07"
      },
      "source": [
        "plt.plot(hist.history['accuracy'])\n",
        "plt.plot(hist.history['val_accuracy'])\n",
        "plt.title('model accuracy')\n",
        "plt.ylabel('loss')\n",
        "plt.xlabel('epoch')\n",
        "plt.legend(['train', 'test'], loc='upper left')\n",
        "plt.show()"
      ],
      "execution_count": null,
      "outputs": [
        {
          "output_type": "display_data",
          "data": {
            "image/png": "[encoded data removed]",
            "text/plain": [
              "<Figure size 432x288 with 1 Axes>"
            ]
          },
          "metadata": {
            "tags": [],
            "needs_background": "light"
          }
        }
      ]
    },
    {
      "cell_type": "code",
      "metadata": {
        "id": "BHyekoQDGb9b",
        "colab_type": "code",
        "colab": {
          "base_uri": "https://localhost:8080/",
          "height": 295
        },
        "outputId": "f3cf864a-6fd3-41bb-c4d7-2979c25777c4"
      },
      "source": [
        "plt.plot(hist.history['loss'])\n",
        "plt.plot(hist.history['val_loss'])\n",
        "plt.title('model loss')\n",
        "plt.ylabel('loss')\n",
        "plt.xlabel('epoch')\n",
        "plt.legend(['train', 'test'], loc='upper left')\n",
        "plt.show()"
      ],
      "execution_count": null,
      "outputs": [
        {
          "output_type": "display_data",
          "data": {
            "image/png": "[encoded data removed]",
            "text/plain": [
              "<Figure size 432x288 with 1 Axes>"
            ]
          },
          "metadata": {
            "tags": [],
            "needs_background": "light"
          }
        }
      ]
    },
    {
      "cell_type": "code",
      "metadata": {
        "id": "FLaa5bWGy9Fz",
        "colab_type": "code",
        "colab": {
          "base_uri": "https://localhost:8080/",
          "height": 34
        },
        "outputId": "8188641e-689a-44ed-b830-658bce4bbb37"
      },
      "source": [
        "loss, acc = model.evaluate(X_test, Y_test)"
      ],
      "execution_count": null,
      "outputs": [
        {
          "output_type": "stream",
          "text": [
            "129/129 [==============================] - 1s 7ms/step - loss: 1.1100 - accuracy: 0.7305\n"
          ],
          "name": "stdout"
        }
      ]
    },
    {
      "cell_type": "code",
      "metadata": {
        "id": "eL2lHWuUzLy7",
        "colab_type": "code",
        "colab": {
          "base_uri": "https://localhost:8080/",
          "height": 51
        },
        "outputId": "aacf8443-0e7d-452d-c2bd-f552fda15469"
      },
      "source": [
        "print('Model Loss     : {}'.format(loss))\n",
        "print('Model accuracy : {}%'.format(acc*100))"
      ],
      "execution_count": null,
      "outputs": [
        {
          "output_type": "stream",
          "text": [
            "Model Loss     : 1.1100200414657593\n",
            "Model accuracy : 73.05447459220886%\n"
          ],
          "name": "stdout"
        }
      ]
    },
    {
      "cell_type": "code",
      "metadata": {
        "id": "_6QoX69nzbGu",
        "colab_type": "code",
        "colab": {}
      },
      "source": [
        ""
      ],
      "execution_count": null,
      "outputs": []
    }
  ]
}